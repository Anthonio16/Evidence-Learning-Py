{
 "cells": [
  {
   "cell_type": "markdown",
   "metadata": {},
   "source": [
    "# Tipos de datos: Cadenas de texto"
   ]
  },
  {
   "cell_type": "markdown",
   "metadata": {},
   "source": [
    "## Creación y conversión\n",
    "### Ejercicio 1\n",
    "Crear variables que contengan la siguiente información:\n",
    "* Nombres\n",
    "* Apellidos\n",
    "* Ciudad de nacimiento\n",
    "* Nombre de la escuela o secundaria donde estudiaste\n",
    "* Nombre de tu mascota (si no tienes, ¿qué nombre le pondrías?)\n",
    "\n",
    "### Solución"
   ]
  },
  {
   "cell_type": "code",
   "execution_count": null,
   "metadata": {},
   "outputs": [],
   "source": [
    "names = \"nombres\"\n",
    "last_name = \"apellidos\"\n",
    "born_city = \"ciudad de nacimiento\"\n",
    "high_school = \"Nombre de la escuela donde estudiaste\"\n",
    "pet = \"Nombre de tu mascota\""
   ]
  },
  {
   "cell_type": "markdown",
   "metadata": {},
   "source": [
    "### Ejercicio 2\n",
    "Si se tiene la variable de tipo texto `numero_mascotas` que contiene, por ejemplo, `\"3\"`, entonces se debe convertir esta variable de texto a número (elegir si debe ser número entero o número flotante). O, si se tiene la variable de tipo número `calificacion_final` que contiene, por ejemplo, `9.15` (sobre 10), entonces se debe convertir esta variable de tipo número a texto.\n",
    "\n",
    "Siguiendo la lógica anterior, realizar la conversión de variables según corresponda:\n",
    "* `numero_pisos = 25`\n",
    "* `altura_edificio = '80.93'`\n",
    "* `peso = 50.03`\n",
    "* `numero_favorito = \"7\"`\n",
    "* `calificacion_supletorio = \"\"\"6.98\"\"\"`\n",
    "\n",
    "**Observación**\n",
    "\n",
    "En los literales que sea necesario se debe utilizar las funciones de conversión hacia números estudiadas en temas anteriores.\n",
    "\n",
    "### Solución"
   ]
  },
  {
   "cell_type": "code",
   "execution_count": 1,
   "metadata": {},
   "outputs": [
    {
     "name": "stdout",
     "output_type": "stream",
     "text": [
      "3 9.15\n"
     ]
    }
   ],
   "source": [
    "numero_mascotas = int(\"3\")\n",
    "calificacion_final = str(9.15)\n",
    "print(numero_mascotas, calificacion_final)"
   ]
  },
  {
   "cell_type": "markdown",
   "metadata": {},
   "source": [
    "## Concatenación\n",
    "### Ejercicio 1\n",
    "Supongamos que estamos generando un **reporte** que incluye los parámetros de diseño de un canal hidráulico: altura, base y longitud. Entonces se debe desplegar por pantalla el reporte.\n",
    "\n",
    "Por ejemplo, si la altura es `1.40` metros, la base es `2.00` metros y la longitud es `2.00` kilometros, entonces el **reporte** (o resultado final) sería `El canal rectangular tiene una altura de 1.40 metros, un ancho de 2.0 metros y una longitud de 2.00 kilometros.`\n",
    "\n",
    "### Solución"
   ]
  },
  {
   "cell_type": "code",
   "execution_count": 9,
   "metadata": {},
   "outputs": [
    {
     "data": {
      "text/plain": [
       "'El canal rectangular tiene una altura de 1.40 metros, un ancho de 2.0 metros y una longitud de 2.00'"
      ]
     },
     "execution_count": 9,
     "metadata": {},
     "output_type": "execute_result"
    }
   ],
   "source": [
    "#Entrada\n",
    "altura = 1.4\n",
    "base = 2.\n",
    "longitud1 = 2.\n",
    "#Procedimiento\n",
    "reporte = f\"El canal rectangular tiene una altura de {altura:.2f} metros, un ancho de {base} metros y una longitud de {longitud1:.2f}\"\n",
    "#Salidas\n",
    "reporte"
   ]
  },
  {
   "cell_type": "markdown",
   "metadata": {},
   "source": [
    "### Ejercicio 2\n",
    "Supongamos que estamos generando un **reporte** sobre una reacción química que considera la reacción, la temperatura (en Kelvin) y la presión (en atmósferas). Entonces se debe desplegar por pantalla el reporte.\n",
    "\n",
    "Por ejemplo, si la reacción es `Reacción A + B`, la temperatura es `350` Kelvin y la presión es `2` atmósferas, entonces el **reporte** (o resultado final) sería `Para la Reacción A + B, la temperatura de operación es de 350 K y la presión es de 2 atm.`\n",
    "\n",
    "### Solución"
   ]
  },
  {
   "cell_type": "code",
   "execution_count": 10,
   "metadata": {},
   "outputs": [
    {
     "name": "stdout",
     "output_type": "stream",
     "text": [
      "Para la Reacción Reaccion A + B, la temperatura de operación es de 350 K y la presión es de 2 atm.\n"
     ]
    }
   ],
   "source": [
    "#Entrada\n",
    "reactive = \"Reaccion A + B\"\n",
    "temperature = str(350)      #Kelvin\n",
    "pressure = str(2)   #atmospheres \n",
    "#Procedimiento\n",
    "reporte = f\"Para la Reacción {reactive}, la temperatura de operación es de {temperature} K y la presión es de {pressure} atm.\"\n",
    "#Salidas\n",
    "print(reporte)"
   ]
  },
  {
   "cell_type": "code",
   "execution_count": null,
   "metadata": {},
   "outputs": [],
   "source": [
    "# Ingrese su código aquí 👻"
   ]
  },
  {
   "cell_type": "markdown",
   "metadata": {},
   "source": [
    "## Indexación\n",
    "### Ejercicio 1\n",
    "Se tiene una cadena que describe una misión espacial."
   ]
  },
  {
   "cell_type": "code",
   "execution_count": null,
   "metadata": {},
   "outputs": [],
   "source": [
    "descripcion_mision = \"Misión Apolo 11 alunizaje\""
   ]
  },
  {
   "cell_type": "markdown",
   "metadata": {},
   "source": [
    "Entonces se debe extraer el nombre de la misión. Luego se debe mostrar por pantalla lo siguiente: `Nombre de la misión: Apolo 11`."
   ]
  },
  {
   "cell_type": "markdown",
   "metadata": {},
   "source": [
    "### Solución"
   ]
  },
  {
   "cell_type": "code",
   "execution_count": 12,
   "metadata": {},
   "outputs": [
    {
     "data": {
      "text/plain": [
       "'Nombre de la misión: 11 Apolo'"
      ]
     },
     "execution_count": 12,
     "metadata": {},
     "output_type": "execute_result"
    }
   ],
   "source": [
    "descripcion_mision = \"Misión Apolo 11 alunizaje\"\n",
    "valor = descripcion_mision[-12:-10]\n",
    "nombre = descripcion_mision[-18:-13]\n",
    "resultado = f\"Nombre de la misión: {valor} {nombre}\"\n",
    "resultado"
   ]
  },
  {
   "cell_type": "markdown",
   "metadata": {},
   "source": [
    "### Ejercicio 2\n",
    "Se tiene una cadena que describe la calidad del agua."
   ]
  },
  {
   "cell_type": "code",
   "execution_count": 1,
   "metadata": {},
   "outputs": [],
   "source": [
    "calidad_agua = \"pH del río Amazonas: 7.5\""
   ]
  },
  {
   "cell_type": "markdown",
   "metadata": {},
   "source": [
    "Entonces se debe extraer el nombre del río y el valor del pH por separado. Finalmente se debe mostrar por pantalla lo siguiente:\n",
    "\n",
    "`Nombre del río: Amazonas`\n",
    "\n",
    "`Valor del pH: 7.5`\n",
    "\n",
    "**Observación**\n",
    "\n",
    "Se debe utilizar un solo `print` para lograr el resultado final."
   ]
  },
  {
   "cell_type": "markdown",
   "metadata": {},
   "source": [
    "### Solución"
   ]
  },
  {
   "cell_type": "markdown",
   "metadata": {},
   "source": [
    "## Funciones para trabajar con cadenas de texto\n",
    "### Ejercicio 1\n",
    "Crea un programa que tome una cadena de texto como entrada y la imprima en mayúsculas y luego en minúsculas.\n",
    "\n",
    "### Solución"
   ]
  },
  {
   "cell_type": "code",
   "execution_count": 16,
   "metadata": {},
   "outputs": [
    {
     "data": {
      "text/plain": [
       "'ANTHONNY'"
      ]
     },
     "execution_count": 16,
     "metadata": {},
     "output_type": "execute_result"
    }
   ],
   "source": [
    "texto = \"Anthonny\"\n",
    "texto.upper()"
   ]
  },
  {
   "cell_type": "code",
   "execution_count": 13,
   "metadata": {},
   "outputs": [
    {
     "data": {
      "text/plain": [
       "'anthonny'"
      ]
     },
     "execution_count": 13,
     "metadata": {},
     "output_type": "execute_result"
    }
   ],
   "source": [
    "texto = \"Anthonny\"\n",
    "texto.lower()\n"
   ]
  }
 ],
 "metadata": {
  "kernelspec": {
   "display_name": "Python 3",
   "language": "python",
   "name": "python3"
  },
  "language_info": {
   "codemirror_mode": {
    "name": "ipython",
    "version": 3
   },
   "file_extension": ".py",
   "mimetype": "text/x-python",
   "name": "python",
   "nbconvert_exporter": "python",
   "pygments_lexer": "ipython3",
   "version": "3.12.1"
  },
  "orig_nbformat": 4
 },
 "nbformat": 4,
 "nbformat_minor": 2
}
