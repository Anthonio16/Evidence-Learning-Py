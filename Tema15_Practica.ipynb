{
 "cells": [
  {
   "cell_type": "markdown",
   "metadata": {},
   "source": [
    "# Estructuras de datos: DataFrames (_librería **pandas**_)"
   ]
  },
  {
   "cell_type": "markdown",
   "metadata": {},
   "source": [
    "## Series y DataFrames\n",
    "### Ejercicio 1\n",
    "Crear una serie de pandas con los valores de los 5 primeros números primos y etiquetas con las vocales `AEIOU`.\n",
    "\n",
    "### Solución"
   ]
  },
  {
   "cell_type": "code",
   "execution_count": null,
   "metadata": {},
   "outputs": [],
   "source": [
    "import pandas as pd"
   ]
  },
  {
   "cell_type": "code",
   "execution_count": null,
   "metadata": {},
   "outputs": [],
   "source": [
    "first_numeros_primos_5 = pd.Series(range(1,6),\n",
    "                                   index = [\"A\", \"E\", \"I\", \"O\", \"U\"])\n",
    "first_numeros_primos_5"
   ]
  },
  {
   "cell_type": "markdown",
   "metadata": {},
   "source": [
    "### Ejercicio 2 - Ingeniería mecánica\n",
    "Un sistema hidráulico consta de varios puntos de medición de presión distribuidos a lo largo de un tubo. Se han registrado las presiones en diferentes momentos del día. Entonces:\n",
    "\n",
    "1. Crea una Serie en Pandas que represente las presiones registradas en 10 puntos diferentes a lo largo del tubo (en bar).\n",
    "2. Asigna como índice de la Serie el número del punto de medición (de 1 a 10).\n",
    "3. Calcula y muestra la presión media, la presión máxima, y la presión mínima en el sistema.\n",
    "4. Identifica si algún punto presenta una presión por debajo de 2 bar, lo cual indicaría un posible problema en el sistema.\n",
    "\n",
    "### Solución"
   ]
  },
  {
   "cell_type": "code",
   "execution_count": null,
   "metadata": {},
   "outputs": [],
   "source": [
    "#Entrada\n",
    "#presiones_lago = [1.8, 3, 3.6, 4, 1.9, 2.3, 4, 1, 4.6, 5] # [bar]\n",
    "\n",
    "#Procedimiento\n",
    "sistema_hidraulico = pd.Series([1.8, 3, 3.6, 4, 1.9, 2.3, 4, 1, 4.6, 5],\n",
    "                               index = range(1,11),\n",
    "                               name = \"Presiones de 10 puntos\")\n",
    "print(f\"Registros de los puntos de presión\")\n",
    "print(sistema_hidraulico)\n",
    "\n",
    "#Presiones\n",
    "descripción = sistema_hidraulico    \n",
    "presion_minima = descripción.min()\n",
    "presion_maxima = descripción.max()\n",
    "presion_media  = descripción.mean()\n",
    "print(f\"\\n\\tPresión minima: {presion_minima}\\n\\tPresión máxima: {presion_maxima}\\n\\tPresión media: {presion_media:.2f}\")\n",
    "\n",
    "presiones_lago = sistema_hidraulico[sistema_hidraulico < 2] #Se crea otra serie \n",
    "if not presiones_lago.empty: #OJO con el empty, esto nos permite verificar que el valor no sea ambigua y la función if se pueda utilizar\n",
    "    print(f\"\\nPresion inferior a 2 bar\")\n",
    "    print(presiones_lago)\n",
    "else:\n",
    "    print(f\"Presión mayor a 2 bar\")"
   ]
  },
  {
   "cell_type": "markdown",
   "metadata": {},
   "source": [
    "### Ejercicio 2 - Ingeniería civil\n",
    "En la construcción de un puente, se han registrado los costos de diferentes fases del proyecto (materiales, mano de obra, maquinaria, etc.). Entonces:\n",
    "\n",
    "1. Crea un DataFrame en Pandas con las siguientes columnas: Fase, Costo en USD.\n",
    "2. Registra los costos de al menos 5 fases diferentes del proyecto (ejemplo: cimentación, estructura, asfaltado, etc.).\n",
    "3. Calcula el costo total del proyecto.\n",
    "4. Identifica la fase que representa el mayor costo y la que representa el menor costo.\n",
    "5. Agrega una nueva fase llamada “Inspección final” con un costo estimado de 5 000 USD, y actualiza el costo total del proyecto.\n",
    "\n",
    "### Solución"
   ]
  },
  {
   "cell_type": "code",
   "execution_count": null,
   "metadata": {},
   "outputs": [],
   "source": [
    "#Entrada\n",
    "fase = pd.Series([\"Cimentación\", \"Estructura\", \"Asfaltado\", \"Cal\", \"Final\"])\n",
    "Costo_USD = pd.Series([15_000, 20_000, 25_000, 17_000, 5_000])\n",
    "\n",
    "#DATA_FRAME \n",
    "construcción_puente = pd.DataFrame({\"fase\": fase,\n",
    "                                   \"Costo en USD\": Costo_USD})\n",
    "print(construcción_puente)\n",
    "\n",
    "#Costo total del proyecto\n",
    "costo_total_proyecto = Costo_USD.sum()\n",
    "print(f\"\\nEl costo total del proyecto es {costo_total_proyecto} USD.\")\n",
    "\n",
    "#Costo min y max\n",
    "Fase_costosa = construcción_puente.loc[fase.idxmin()]\n",
    "Fase_menos_costosa = construcción_puente.loc[fase.idxmax()]\n",
    "\n",
    "print(f\"\\nLa fase más costosa es: {Fase_costosa[\"fase\"]}.\\nLa fase que presenta el menor costo: {Fase_menos_costosa[\"fase\"]}. \")\n",
    "\n",
    "#Nueva fase\n",
    "copy_construcción_puente = construcción_puente.copy()\n",
    "copy_construcción_puente.loc[5] = [\"Inspección Final\", 5_000]\n",
    "print(f\"\\n{copy_construcción_puente}\")\n",
    "\n",
    "costo_final = Costo_USD.sum() + 5000\n",
    "print(f\"\\nEl costo añadiendo la inspección es: {costo_final}\")"
   ]
  },
  {
   "cell_type": "code",
   "execution_count": null,
   "metadata": {},
   "outputs": [],
   "source": [
    "import pandas as pd\n"
   ]
  },
  {
   "cell_type": "markdown",
   "metadata": {},
   "source": [
    "### Mejor forma de ver las cosas"
   ]
  },
  {
   "cell_type": "code",
   "execution_count": null,
   "metadata": {},
   "outputs": [],
   "source": [
    "#Serie\n",
    "Contrucción = pd.Series([15_000, 20_000, 25_000, 17_000, 5_000],\n",
    "                      index = [\"Cimentación\", \"Estructura\", \"Asfaltado\", \"Cal\", \"Final\"])\n",
    "#Data frame\n",
    "building = pd.DataFrame( {\"Costo USD\": Contrucción})\n",
    "building\n",
    "#Costo min y max\n",
    "Fase_costosa = Contrucción.argmax()\n",
    "Fase_menos_costosa = Contrucción.argmin()\n",
    "\n",
    "print(f\"\\nLa fase más costosa es: {Fase_costosa}.\\nLa fase que presenta el menor costo: {Fase_menos_costosa}. \")"
   ]
  },
  {
   "cell_type": "markdown",
   "metadata": {},
   "source": [
    "### 2"
   ]
  },
  {
   "cell_type": "code",
   "execution_count": null,
   "metadata": {},
   "outputs": [],
   "source": [
    "import pandas as pd\n",
    "\n",
    "# Crear el DataFrame con las fases del proyecto y sus costos\n",
    "data = {\n",
    "    \"Fase\": [\"Cimentación\", \"Estructura\", \"Asfaltado\", \"Señalización\", \"Iluminación\"],\n",
    "    \"Costo en USD\": [50000, 120000, 45000, 15000, 20000]\n",
    "}\n",
    "\n",
    "df = pd.DataFrame(data)\n",
    "\n",
    "# Calcular el costo total del proyecto\n",
    "costo_total = df[\"Costo en USD\"].sum()\n",
    "\n",
    "# Identificar la fase con mayor y menor costo\n",
    "fase_mayor_costo = df.loc[df[\"Costo en USD\"].idxmax()]\n",
    "fase_menor_costo = df.loc[df[\"Costo en USD\"].idxmin()]\n",
    "\n",
    "# Agregar la fase \"Inspección final\" con un costo de 5,000 USD\n",
    "df.loc[len(df)] = [\"Inspección final\", 5000]\n",
    "\n",
    "# Actualizar el costo total del proyecto\n",
    "costo_total_actualizado = df[\"Costo en USD\"].sum()\n",
    "\n",
    "# Imprimir resultados\n",
    "print(\"DataFrame actualizado:\")\n",
    "print(df)\n",
    "print(f\"\\nCosto total antes de la inspección final: {costo_total} USD\")\n",
    "print(f\"Fase con mayor costo: {fase_mayor_costo['Fase']} ({fase_mayor_costo['Costo en USD']} USD)\")\n",
    "print(f\"Fase con menor costo: {fase_menor_costo['Fase']} ({fase_menor_costo['Costo en USD']} USD)\")\n",
    "print(f\"Costo total después de la inspección final: {costo_total_actualizado} USD\")\n"
   ]
  },
  {
   "cell_type": "markdown",
   "metadata": {},
   "source": [
    "### Ejercicio 3 - Ingeniería ambiental\n",
    "Se ha tomado una muestra de agua en 5 puntos distintos de un río para analizar la concentración de diferentes contaminantes: nitratos, fosfatos y mercurio (en mg/L). Entonces:\n",
    "\n",
    "1. Crea un DataFrame en Pandas donde cada fila representa un punto de muestreo y las columnas representan las concentraciones de nitratos, fosfatos y mercurio.\n",
    "2. Asigna nombres a las filas con el identificador del punto de muestreo (Ejemplo: Punto A, Punto B, etc.).\n",
    "3. Calcula la concentración media de cada contaminante en todo el río.\n",
    "4. Identifica si algún punto de muestreo tiene una concentración de mercurio superior a 0.001 mg/L, lo cual indicaría contaminación peligrosa.\n",
    "5. Crea una nueva columna llamada \"Contaminación total\" que sea la suma de los tres contaminantes en cada punto.\n",
    "\n",
    "### Solución"
   ]
  },
  {
   "cell_type": "code",
   "execution_count": 3,
   "metadata": {},
   "outputs": [],
   "source": [
    "import pandas as pd"
   ]
  },
  {
   "cell_type": "code",
   "execution_count": null,
   "metadata": {},
   "outputs": [],
   "source": [
    "df = pd.DataFrame(index = [\"Punto A\", \"Punto B\", \"Punto C\", \"Punto D\", \"Punto E\"],\n",
    "                           columns = [\"Nitratos\", \"Fosfatos\", \"Mercurio\"],\n",
    "                           data = [[1,2,0.03],[1,2,0.003],[1,2,0.0003],[1,2,0.0003],[1,2,0.0003]])\n",
    "print(df)\n",
    "\n",
    "#Concentración media\n",
    "concentracion_media = df.mean()\n",
    "print(f\"\\nLas concentraciones medias son:\\n{concentracion_media}\")\n",
    "\n",
    "#Punto de muestreo menor a 0.001 mg/L\n",
    "puntos_peligrosos = df[df[\"Mercurio\"] > 0.001]\n",
    "print(f\"\\nLos puntos peligrosos son: \\n{puntos_peligrosos}.\")\n",
    "\n",
    "#Columna Contaminación total\n",
    "df.loc[\"Contaminación total\"] = df.sum() \n",
    "print(df)"
   ]
  },
  {
   "cell_type": "markdown",
   "metadata": {},
   "source": [
    "### Ejercicio 4 - Ingeniería civil\n",
    "Se han calculado las cargas aplicadas en diferentes vigas de un edificio en construcción. Entonces:\n",
    "\n",
    "1. Crea un DataFrame en Pandas donde cada fila representa una viga, y las columnas representan la carga vertical (en kN), la carga horizontal (en kN) y el momento flector (en kN·m).\n",
    "2. Registra los datos para al menos 5 vigas diferentes.\n",
    "3. Calcula la carga total en todas las vigas para las cargas verticales y horizontales por separado.\n",
    "4. Identifica cuál es la viga con el mayor momento flector.\n",
    "5. Agrega una nueva viga con sus respectivas cargas y actualiza los cálculos anteriores.\n",
    "\n",
    "### Solución"
   ]
  },
  {
   "cell_type": "code",
   "execution_count": 45,
   "metadata": {},
   "outputs": [
    {
     "name": "stdout",
     "output_type": "stream",
     "text": [
      "        Carga vertical (en kN)  Carga horizontal (en kN)  \\\n",
      "Viga 1                     2.0                       1.6   \n",
      "Viga 2                     3.0                       5.0   \n",
      "Viga 3                     1.0                       8.0   \n",
      "Viga 4                     3.4                       6.2   \n",
      "Viga 5                     6.0                       3.0   \n",
      "\n",
      "        Momento flector (en kN-m)  \n",
      "Viga 1                        3.2  \n",
      "Viga 2                        4.0  \n",
      "Viga 3                        6.0  \n",
      "Viga 4                        8.3  \n",
      "Viga 5                        2.0  \n",
      "\n",
      "La carga total vertical es: \n",
      "15.4.\n",
      "La carga total horizontal es: \n",
      "23.8.\n",
      "\n",
      "La viga con el mayor momento flector es: \n",
      "Viga 4\n",
      "        Carga vertical (en kN)  Carga horizontal (en kN)  \\\n",
      "Viga 1                     2.0                       1.6   \n",
      "Viga 2                     3.0                       5.0   \n",
      "Viga 3                     1.0                       8.0   \n",
      "Viga 4                     3.4                       6.2   \n",
      "Viga 5                     6.0                       3.0   \n",
      "Viga 6                     4.2                       3.0   \n",
      "\n",
      "        Momento flector (en kN-m)  \n",
      "Viga 1                        3.2  \n",
      "Viga 2                        4.0  \n",
      "Viga 3                        6.0  \n",
      "Viga 4                        8.3  \n",
      "Viga 5                        2.0  \n",
      "Viga 6                        4.0  \n",
      "\n",
      "La carga total vertical es: \n",
      "19.6.\n",
      "La carga total horizontal es: \n",
      "26.8.\n",
      "\n",
      "La viga con el mayor momento flector es: \n",
      "Viga 4\n"
     ]
    }
   ],
   "source": [
    "#Entrada\n",
    "data = {\n",
    "    \"Carga vertical (en kN)\":    [2, 3, 1, 3.4, 6],\n",
    "    \"Carga horizontal (en kN)\":  [1.6, 5, 8, 6.2, 3],\n",
    "    \"Momento flector (en kN-m)\": [3.2, 4, 6, 8.3, 2]\n",
    "}\n",
    "edificio_construcción_df = pd.DataFrame(data,\n",
    "                                     index =   [\"Viga 1\", \"Viga 2\", \"Viga 3\", \"Viga 4\", \"Viga 5\"],\n",
    "                                     )\n",
    "\n",
    "print(edificio_construcción_df)\n",
    "\n",
    "#Carga total vertical y horizontal\n",
    "carga_total_vertical = edificio_construcción_df[\"Carga vertical (en kN)\"].sum()\n",
    "carga_total_horizontal = edificio_construcción_df[\"Carga horizontal (en kN)\"].sum()\n",
    "\n",
    "print(f\"\\nLa carga total vertical es: \\n{carga_total_vertical}.\\nLa carga total horizontal es: \\n{carga_total_horizontal}.\")\n",
    "\n",
    "#Viga mayor\n",
    "viga_mayor = edificio_construcción_df[\"Momento flector (en kN-m)\"].idxmax()\n",
    "print(f\"\\nLa viga con el mayor momento flector es: \\n{viga_mayor}\")\n",
    "\n",
    "#Nueva viga\n",
    "edificio_construcción_df.loc[\"Viga 6\"] = [4.2, 3, 4]\n",
    "carga_total_vertical = edificio_construcción_df[\"Carga vertical (en kN)\"].sum()\n",
    "carga_total_horizontal = edificio_construcción_df[\"Carga horizontal (en kN)\"].sum()\n",
    "viga_mayor = edificio_construcción_df[\"Momento flector (en kN-m)\"].idxmax()\n",
    "\n",
    "print(edificio_construcción_df)\n",
    "print(f\"\\nLa carga total vertical es: \\n{carga_total_vertical}.\\nLa carga total horizontal es: \\n{carga_total_horizontal}.\")\n",
    "print(f\"\\nLa viga con el mayor momento flector es: \\n{viga_mayor}\")"
   ]
  },
  {
   "cell_type": "markdown",
   "metadata": {},
   "source": [
    "### Ejercicio 5 - Ingeniería eléctrica\n",
    "Se han registrado los consumos energéticos (en kWh) de diferentes secciones de una planta industrial durante una semana. Entonces:\n",
    "\n",
    "1. Crea un DataFrame en Pandas donde cada columna represente un día de la semana (de lunes a domingo) y cada fila represente una sección de la planta (ejemplo: taller, oficinas, almacén, etc.).\n",
    "2. Ingresa los datos de consumo energético para al menos 5 secciones diferentes.\n",
    "3. Calcula el consumo total por día y el consumo total por sección.\n",
    "4. Identifica cuál fue el día con mayor consumo total en la planta.\n",
    "5. Agrega una nueva sección llamada \"Área de servidores\" con un consumo estimado constante de 500 kWh por día y recalcula el consumo total por día.\n",
    "\n",
    "### Solución"
   ]
  },
  {
   "cell_type": "code",
   "execution_count": 25,
   "metadata": {},
   "outputs": [],
   "source": [
    "import numpy as np\n",
    "import pandas as pd"
   ]
  },
  {
   "cell_type": "code",
   "execution_count": 47,
   "metadata": {},
   "outputs": [
    {
     "name": "stdout",
     "output_type": "stream",
     "text": [
      "          Lunes  Martes  Miercoles  Jueves  Viernes\n",
      "Taller      859     880        897     473      371\n",
      "Oficinas    818     989        436     951      494\n",
      "Almacén     746     401        793     202      959\n",
      "Recursos    457     376        706     618      390\n",
      "Despacho    868     744        790     766      859\n",
      "\n",
      "El consumo total por cada día es: \n",
      "Lunes        3748\n",
      "Martes       3390\n",
      "Miercoles    3622\n",
      "Jueves       3010\n",
      "Viernes      3073\n",
      "dtype: int64      \n",
      "Y el consumo totla por cada sección es: \n",
      "Taller      3480\n",
      "Oficinas    3688\n",
      "Almacén     3101\n",
      "Recursos    2547\n",
      "Despacho    4027\n",
      "dtype: int64\n",
      "\n",
      "El día con mayor consumo fue el: \n",
      "Lunes \n",
      "\n",
      "Data Frame actualizado con Area de servidores: \n",
      "                    Lunes  Martes  Miercoles  Jueves  Viernes\n",
      "Taller                859     880        897     473      371\n",
      "Oficinas              818     989        436     951      494\n",
      "Almacén               746     401        793     202      959\n",
      "Recursos              457     376        706     618      390\n",
      "Despacho              868     744        790     766      859\n",
      "Area de servidores    500     500        500     500      500      \n",
      "Calculos actualizados: \n",
      "Lunes        4248\n",
      "Martes       3890\n",
      "Miercoles    4122\n",
      "Jueves       3510\n",
      "Viernes      3573\n",
      "dtype: int64 \n"
     ]
    }
   ],
   "source": [
    "#Entrada\n",
    "valores = np.random.randint(200, 1000, size = (5,5))\n",
    "sección = [\"Taller\", \"Oficinas\", \"Almacén\", \"Recursos\", \"Despacho\"]\n",
    "días =    [\"Lunes\", \"Martes\", \"Miercoles\", \"Jueves\", \"Viernes\"]\n",
    "\n",
    "#Data frame\n",
    "df = pd.DataFrame(valores,\n",
    "                   index   = sección,\n",
    "                   columns = días)\n",
    "print(df)\n",
    "\n",
    "#Consumo total por día y por sección\n",
    "consumo_t_día = df.sum()\n",
    "consumo_t_seccion = df.sum(axis = 1)\n",
    "print(f\"\\nEl consumo total por cada día es: \\n{consumo_t_día}\\\n",
    "      \\nY el consumo totla por cada sección es: \\n{consumo_t_seccion}\")\n",
    "\n",
    "#día con mayor consumo\n",
    "day_cons_max = consumo_t_día.idxmax()\n",
    "print(f\"\\nEl día con mayor consumo fue el: \\n{day_cons_max} \")\n",
    "\n",
    "#Agregar area de servidores\n",
    "df.loc[\"Area de servidores\"] = 500\n",
    "\n",
    "#Calculo actualizado\n",
    "update_calculos = df.sum(axis = 0)\n",
    "\n",
    "print(f\"\\nData Frame actualizado con Area de servidores: \\n{df}\\\n",
    "      \\nCalculos actualizados: \\n{update_calculos} \")"
   ]
  },
  {
   "cell_type": "markdown",
   "metadata": {},
   "source": [
    "### Ejercicio 6 - Ingeniería eléctrica\n",
    "En una instalación de paneles solares, se han medido las potencias generadas (en kW) por varios paneles en diferentes momentos del día. Entonces:\n",
    "\n",
    "1. Crea un DataFrame en Pandas donde cada columna represente un panel solar y cada fila un horario de medición (ejemplo: 8:00 AM, 12:00 PM, 4:00 PM, etc.).\n",
    "2. Registra las potencias generadas por al menos 4 paneles en 3 horarios diferentes.\n",
    "3. Calcula la potencia media generada por cada panel durante el día.\n",
    "4. Identifica cuál es el panel que genera más potencia de manera consistente.\n",
    "5. Crea una nueva fila para un horario adicional (ejemplo: 6:00 PM) con potencias estimadas en función de la caída del sol, y actualiza los cálculos de potencia media.\n",
    "\n",
    "### Solución"
   ]
  },
  {
   "cell_type": "code",
   "execution_count": 64,
   "metadata": {},
   "outputs": [
    {
     "name": "stdout",
     "output_type": "stream",
     "text": [
      "          Panel 1  Panel 2  Panel 3  Panel 4\n",
      "8:00 AM       480      631      223      416\n",
      "12:00 PM      322      258      272      476\n",
      "4:00 PM       662      255      517      601\n",
      "\n",
      "La potencia media generada por cada panel es: \n",
      "Panel 1    488.00\n",
      "Panel 2    381.33\n",
      "Panel 3    337.33\n",
      "Panel 4    497.67\n",
      "dtype: float64\n",
      "\n",
      "El panel que genera más potencia de manera constante es: \n",
      "Panel 4\n",
      "\n",
      "Horario adicional: \n",
      "          Panel 1  Panel 2  Panel 3  Panel 4\n",
      "8:00 AM       480      631      223      416\n",
      "12:00 PM      322      258      272      476\n",
      "4:00 PM       662      255      517      601\n",
      "6:00 PM       200      500      300      430\n",
      "\n",
      "La potencia media generada por cada panel es: \n",
      "Panel 1    488.00\n",
      "Panel 2    381.33\n",
      "Panel 3    337.33\n",
      "Panel 4    497.67\n",
      "dtype: float64\n",
      "\n",
      "El panel que genera más potencia de manera constante es: \n",
      "Panel 4\n"
     ]
    }
   ],
   "source": [
    "# Entradas\n",
    "potencias_generadas = np.random.randint(200,800, size = (3,4))\n",
    "paneles = [\"Panel 1\", \"Panel 2\", \"Panel 3\", \"Panel 4\"]\n",
    "horarios = [\"8:00 AM\", \"12:00 PM\", \"4:00 PM\"]\n",
    "\n",
    "#Data Frame\n",
    "intalación_paneles_df = pd.DataFrame(potencias_generadas,\n",
    "                                     index = horarios,\n",
    "                                     columns = paneles )\n",
    "\n",
    "print(intalación_paneles_df) \n",
    "\n",
    "#Potencia genereda por cada panel\n",
    "potencia_media = intalación_paneles_df.mean()\n",
    "print(f\"\\nLa potencia media generada por cada panel es: \\n{round(potencia_media,2)}\")\n",
    "\n",
    "#Panel que genera más de manera consistente\n",
    "panel_max = potencia_media.idxmax()\n",
    "\n",
    "print(f\"\\nEl panel que genera más potencia de manera constante es: \\n{panel_max}\")\n",
    "\n",
    "#Horario adicional\n",
    "intalación_paneles_df.loc[\"6:00 PM\"] = [200, 500, 300, 430]\n",
    "print(f\"\\nHorario adicional: \\n{intalación_paneles_df}\")\n",
    "print(f\"\\nLa potencia media generada por cada panel es: \\n{round(potencia_media,2)}\")\n",
    "print(f\"\\nEl panel que genera más potencia de manera constante es: \\n{panel_max}\")\n"
   ]
  },
  {
   "cell_type": "markdown",
   "metadata": {},
   "source": [
    "### Ejercicio 7 - Ingeniería mecánica\n",
    "Se han medido las RPM (revoluciones por minuto) y el torque (en Nm) de varios motores en una planta automotriz durante diferentes condiciones de operación. Entonces:\n",
    "\n",
    "1. Crea un DataFrame en Pandas donde cada fila represente un motor y las columnas representen las RPM y el torque medidos bajo condiciones normales y bajo carga.\n",
    "2. Registra los datos para al menos 4 motores.\n",
    "3. Calcula la potencia desarrollada por cada motor en cada condición utilizando la fórmula $$\\text{Potencia} = \\frac{\\text{Torque} \\times RPM}{9.5488}$$ y agrega nuevas columnas para estos valores.\n",
    "4. Identifica cuál es el motor que desarrolla la mayor potencia bajo carga.\n",
    "5. Agrega una nueva condición de operación (ejemplo: máxima carga) y registra datos hipotéticos para cada motor, actualizando los cálculos de potencia.\n",
    "\n",
    "### Solución"
   ]
  },
  {
   "cell_type": "code",
   "execution_count": null,
   "metadata": {},
   "outputs": [],
   "source": [
    "# Ingresa tu respuesta aquí 👻"
   ]
  },
  {
   "cell_type": "markdown",
   "metadata": {},
   "source": [
    "### Ejercicio 8 - Ingeniería industrial\n",
    "Se ha monitorizado la eficiencia de diferentes máquinas en una línea de producción, medida como la proporción de productos defectuosos frente al total producido. Entonces:\n",
    "\n",
    "1. Crea un DataFrame en Pandas donde cada fila represente una máquina y las columnas representen el total de productos producidos y la cantidad de productos defectuosos.\n",
    "2. Registra los datos para al menos 5 máquinas.\n",
    "3. Calcula la eficiencia de cada máquina como $$\\text{Eficiencia} = \\frac{\\text{Total producido} - \\text{Defectuosos}}{\\text{Total producido}} \\times 100$$\n",
    "4. Identifica la máquina con la mayor eficiencia y la máquina con la menor eficiencia.\n",
    "5. Agrega una nueva máquina con datos hipotéticos y recalcula las eficiencias.\n",
    "\n",
    "### Solución"
   ]
  },
  {
   "cell_type": "code",
   "execution_count": null,
   "metadata": {},
   "outputs": [],
   "source": [
    "# Ingresa tu respuesta aquí 👻"
   ]
  }
 ],
 "metadata": {
  "kernelspec": {
   "display_name": "Python 3",
   "language": "python",
   "name": "python3"
  },
  "language_info": {
   "codemirror_mode": {
    "name": "ipython",
    "version": 3
   },
   "file_extension": ".py",
   "mimetype": "text/x-python",
   "name": "python",
   "nbconvert_exporter": "python",
   "pygments_lexer": "ipython3",
   "version": "3.12.1"
  },
  "orig_nbformat": 4
 },
 "nbformat": 4,
 "nbformat_minor": 2
}
