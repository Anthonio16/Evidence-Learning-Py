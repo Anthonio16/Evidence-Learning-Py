{
 "cells": [
  {
   "cell_type": "markdown",
   "metadata": {},
   "source": [
    "# Operaciones matriciales (_librería **numpy**_)"
   ]
  },
  {
   "cell_type": "code",
   "execution_count": 1,
   "metadata": {},
   "outputs": [],
   "source": [
    "import numpy as np"
   ]
  },
  {
   "cell_type": "markdown",
   "metadata": {},
   "source": [
    "## Multiplicación y potencia\n",
    "### Ejercicio 1\n",
    "Con un calorímetro de bomba se realizó una serie de experimentos. En cada experimento se usó una cantidad diferente de agua. Calcule la capacidad calorífica total para el calorímetro en cada uno de los experimentos.\n",
    "\n",
    "<figure style=\"text-align: center;\">\n",
    "  <div><strong>Fig. 1.</strong> Propiedades térmicas de un calorímetro de bomba. </div>\n",
    "  <img src=\"markdown_resources\\2.png\" style=\"width: 40%; height: auto;\">\n",
    "  <figcaption>Tomado de MATLAB para Ingenieros de Holly Moore.</A>.</figcaption>\n",
    "</figure>\n",
    "\n",
    "<figure style=\"text-align: center;\">\n",
    "  <div><strong>Fig. 2.</strong> Capacidad calorímetra. </div>\n",
    "  <img src=\"markdown_resources\\3.png\" style=\"width: 30%; height: auto;\">\n",
    "  <figcaption>Tomado de MATLAB para Ingenieros de Holly Moore.</A>.</figcaption>\n",
    "</figure>\n",
    "\n",
    "*Ejercicio tomado de Moore, 2007.*\n",
    "\n",
    "### Solución"
   ]
  },
  {
   "cell_type": "code",
   "execution_count": 4,
   "metadata": {},
   "outputs": [
    {
     "name": "stdout",
     "output_type": "stream",
     "text": [
      "Capacidad calorifica del agua: [[49.5 ]\n",
      " [45.  ]\n",
      " [45.45]\n",
      " [44.37]\n",
      " [44.73]].\n",
      "Capacidad calorifica del acero: [[1050.]\n",
      " [1050.]\n",
      " [1050.]\n",
      " [1050.]\n",
      " [1050.]]\n",
      "Capacida calorifica del aluminio: [[9.]\n",
      " [9.]\n",
      " [9.]\n",
      " [9.]\n",
      " [9.]].\n"
     ]
    }
   ],
   "source": [
    "# Entrada\n",
    "masa_agua = np.array([[110], [100], [101], [98.6], [99.4]])\n",
    "masa_acero = np.array([[250], [250], [250], [250], [250]])\n",
    "masa_aluminio = np.array([[10], [10], [10], [10], [10]])\n",
    "\n",
    "# Procedimiento\n",
    "capacidad_calorifica_agua = np.array([[0.45]])\n",
    "capacidad_calorifica_acero = np.array([[4.2]])\n",
    "capacidad_calorifica_aluminio = np.array([[0.90]])\n",
    "\n",
    "#Salida\n",
    "print(f\"Capacidad calorifica del agua: {masa_agua @ capacidad_calorifica_agua}.\" + \\\n",
    "      f\"\\nCapacidad calorifica del acero: {masa_acero @ capacidad_calorifica_acero}\" + \\\n",
    "        f\"\\nCapacida calorifica del aluminio: {masa_aluminio @ capacidad_calorifica_aluminio}.\")"
   ]
  },
  {
   "cell_type": "markdown",
   "metadata": {},
   "source": [
    "### Ejercicio 2\n",
    "El peso molecular ($MW$) de cualquier compuesto es la suma de los productos del número de átomos de cada elemento ($Z$) y el peso atómico ($AW$) de cada elemento presente en el compuesto, o\n",
    "\n",
    "$$MW = \\sum^n_{i=1} AW_i \\cdot Z_i$$\n",
    "\n",
    "En la tabla se mencionan las composiciones de los primeros cinco alcoholes de cadena recta. Use los pesos atómicos del carbono, hidrógeno y oxígeno (12, 1 y 16,  respectivamente) y la multiplicación matricial para determinar el peso molecular (más  correctamente llamada masa molar) de cada alcohol.\n",
    "\n",
    "<figure style=\"text-align: center;\">\n",
    "  <div><strong>Fig. 3.</strong> Composición de alcoholes. </div>\n",
    "  <img src=\"markdown_resources\\4.png\" style=\"width: 45%; height: auto;\">\n",
    "  <figcaption>Tomado de MATLAB para Ingenieros de Holly Moore.</A>.</figcaption>\n",
    "</figure>\n",
    "\n",
    "*Ejercicio tomado de Moore, 2007.*\n",
    "\n",
    "### Solución"
   ]
  },
  {
   "cell_type": "code",
   "execution_count": 10,
   "metadata": {},
   "outputs": [
    {
     "name": "stdout",
     "output_type": "stream",
     "text": [
      "[[32]\n",
      " [46]\n",
      " [60]\n",
      " [74]\n",
      " [88]]\n"
     ]
    }
   ],
   "source": [
    "# Entrada\n",
    "compuestos = np.array([[1, 4, 1], [2, 6, 1], [3, 8 , 1], [4, 10, 1], [5, 12, 1]])\n",
    "compuestos\n",
    "pesos_atm = np.array([[12], [1], [16]])\n",
    "\n",
    "#Procedimiento\n",
    "calculo = compuestos @ pesos_atm\n",
    "# [[[\"Metanol\"],[\"Etanol\"], [\"Propanol\"], [\"Butanol\"], [\"Pentanol\"] ]] \n",
    "print(calculo)"
   ]
  },
  {
   "cell_type": "markdown",
   "metadata": {},
   "source": [
    "## Solución de sistemas de ecuaciones\n",
    "### Ejercicio 1\n",
    "Resolver el siguiente sistema de ecuaciones lineales.\n",
    "\n",
    "$$\n",
    "\\begin{aligned}\n",
    "2x_1 + 2x_2 - 3x_3 + 5x_4 + 8x_5 &= -2 \\\\\n",
    "9x_1 - 3x_2 - 3x_3 - 8x_4 + 2x_5 &= 1 \\\\\n",
    "7x_1 + 5x_2 - 7x_3 - 3x_4 + 9x_5 &= -15 \\\\\n",
    "3x_1 - 2x_2 + 2x_3 - 5x_4 + 7x_5 &= 0 \\\\\n",
    "2x_1 - 4x_2 + 9x_3 - 9x_4 + 6x_5 &= 7\n",
    "\\end{aligned}\n",
    "$$\n",
    "\n",
    "### Solución"
   ]
  },
  {
   "cell_type": "code",
   "execution_count": 15,
   "metadata": {},
   "outputs": [
    {
     "name": "stdout",
     "output_type": "stream",
     "text": [
      "Solution:\n",
      " [[ 1.37805907]\n",
      " [-1.25274262]\n",
      " [ 1.46624473]\n",
      " [ 1.22151899]\n",
      " [-0.49493671]]\n"
     ]
    }
   ],
   "source": [
    "A = np.array([[2, 2, -3, 5, 8],\n",
    "              [9, -3, -3, -8, 2],\n",
    "              [7, 5, -7, -3, 9],\n",
    "              [3, -2, 2, -5, 7],\n",
    "              [2, -4, 9, -9, 6]])\n",
    "b = np.array([[-2], [1], [-15], [0], [7]])\n",
    "\n",
    "x = np.linalg.solve(A, b)\n",
    "\n",
    "print(f\"Solution:\\n {x}\")"
   ]
  },
  {
   "cell_type": "markdown",
   "metadata": {},
   "source": [
    "### Ejercicio 2\n",
    "Suponga que una economía consiste en los sectores de carbón, electricidad y acero, y que el rendimiento de cada sector se distribuye entre los diferentes  sectores como en la tabla, donde las entradas de una columna representan fracciones de la producción total de un sector. La segunda columna de la tabla, por ejemplo, muestra que la producción total de electricidad se divide como sigue: un 40% de carbón, un 50% de acero, y el restante 10% de electricidad. (El sector eléctrico trata este 10% como un gasto en que incurre para hacer funcionar su negocio.) Ya que debe tomarse en cuenta la producción total, las  fracciones decimales de cada columna deben sumar 1. Los precios (es decir, valores en moneda) de la producción total de los sectores de carbón, electricidad y acero se denotarán como $p_C$, $p_E$ y $p_S$, respectivamente. Si es posible, encuentre los precios de equilibrio que permiten a los ingresos de cada sector  igualar sus gastos.\n",
    "\n",
    "<figure style=\"text-align: center;\">\n",
    "  <div><strong>Fig. 4.</strong> Una economía sencilla. </div>\n",
    "  <img src=\"markdown_resources\\5.png\" style=\"width: 35%; height: auto;\">\n",
    "  <figcaption>Tomado de Álgebra linea y sus aplicaciones de David C. Lay.</A>.</figcaption>\n",
    "</figure>\n",
    "\n",
    "**Recomendación:** Empezar generando manualmente las ecuaciones de cada columna. Por ejemplo, la primera columna responde a la ecuación $p_C = 0.0p_C + 0.6p_E + 0.4p_S$. Luego reordenar las ecuaciones y variables para generar el sistema matricial y resolverlo.\n",
    "\n",
    "**Nota:** Este ejercicio corresponde a las aplicaciones de sistemas de ecuaciones lineales en economía, específicamente al *modelo de intercambio sencillo*, desarrollado por Leontief.\n",
    "\n",
    "*Ejercicio tomado de Lay, 2007.*\n",
    "\n",
    "### Solución"
   ]
  },
  {
   "cell_type": "code",
   "execution_count": 16,
   "metadata": {},
   "outputs": [
    {
     "data": {
      "text/plain": [
       "(np.float64(7.549516567451048e-17),\n",
       " array([0.57735027, 0.57735027, 0.57735027]))"
      ]
     },
     "execution_count": 16,
     "metadata": {},
     "output_type": "execute_result"
    }
   ],
   "source": [
    "import numpy as np\n",
    "\n",
    "# Definir la matriz de coeficientes\n",
    "A = np.array([[1, -0.6, -0.4],\n",
    "              [-0.4, 0.9, -0.5],\n",
    "              [-0.3, -0.5, 0.8]])\n",
    "\n",
    "# Definir el vector de términos independientes (todos ceros)\n",
    "b = np.zeros(3)\n",
    "\n",
    "# Calcular la solución del sistema utilizando valores propios (para encontrar soluciones no triviales)\n",
    "eigenvalues, eigenvectors = np.linalg.eig(A)\n",
    "\n",
    "# Verificar si el determinante es cero (sistema homogéneo con soluciones no triviales)\n",
    "det_A = np.linalg.det(A)\n",
    "\n",
    "det_A, eigenvectors[:, np.argmin(np.abs(eigenvalues))]  # Tomar el vector propio asociado al menor valor propio\n"
   ]
  }
 ],
 "metadata": {
  "kernelspec": {
   "display_name": "Python 3",
   "language": "python",
   "name": "python3"
  },
  "language_info": {
   "codemirror_mode": {
    "name": "ipython",
    "version": 3
   },
   "file_extension": ".py",
   "mimetype": "text/x-python",
   "name": "python",
   "nbconvert_exporter": "python",
   "pygments_lexer": "ipython3",
   "version": "3.12.1"
  },
  "orig_nbformat": 4
 },
 "nbformat": 4,
 "nbformat_minor": 2
}
