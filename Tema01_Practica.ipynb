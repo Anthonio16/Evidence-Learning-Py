{
 "cells": [
  {
   "cell_type": "markdown",
   "metadata": {},
   "source": [
    "# Conceptos generales"
   ]
  },
  {
   "cell_type": "markdown",
   "metadata": {},
   "source": [
    "## Variables y reasignación\n",
    "### Ejercicio 1\n",
    "Realizar las siguientes actividades:\n",
    "1. Crear la variable `edad` y asígnale tu edad.\n",
    "2. ¿Qué edad tendrías dentro de 13 años? Para responder esta pregunta debes reasignar (utilizando asignación aumentada) a tu edad la cantidad de años indicada.\n",
    "3. ¿Qué edad tendrías dentro de 26 y 39 años? Para responder esta pregunta no debes reasignar nuevamente los años indicados, únicamente debes ejecutar varias veces el código del literal 2.\n",
    "\n",
    "### Solución"
   ]
  },
  {
   "cell_type": "code",
   "execution_count": 20,
   "metadata": {},
   "outputs": [
    {
     "data": {
      "text/plain": [
       "31"
      ]
     },
     "execution_count": 20,
     "metadata": {},
     "output_type": "execute_result"
    }
   ],
   "source": [
    "# Ingrese su respuesta aquí 👻\n",
    "edad = 18\n",
    "#edad = edad + 13\n",
    "#edad\n",
    "edad+= 13\n",
    "edad\n"
   ]
  },
  {
   "cell_type": "code",
   "execution_count": null,
   "metadata": {},
   "outputs": [
    {
     "name": "stdout",
     "output_type": "stream",
     "text": [
      "44\n"
     ]
    }
   ],
   "source": [
    "edad = 18\n",
    "edad += 13\n",
    "print (edad)"
   ]
  },
  {
   "cell_type": "markdown",
   "metadata": {},
   "source": [
    "### Ejercicio 2\n",
    "Realizar las siguientes actividades:\n",
    "1. Crea una variable que contenga tu ciudad de nacimiento. ¿Qué nombre utilizarías para crear esta variable? ¿Por qué?\n",
    "2. Crea una variable que contenga la cantidad de hermanos que tienes. ¿Qué nombre utilizarías para crear esta variable? ¿Por qué?\n",
    "3. Crea una variable que contenga el salario, o sueldo, que desearías tener. ¿Qué nombre NO utilizarías para crear esta variable? ¿Por qué?\n",
    "4. Crea una variable que contega tu comida favorita. ¿Qué nombre NO utilizarías para crear esta variable? ¿Por qué?\n",
    "\n",
    "### Solución"
   ]
  },
  {
   "cell_type": "code",
   "execution_count": null,
   "metadata": {},
   "outputs": [],
   "source": [
    "C = \"Quito\"  #La inicial para que no sea tan largo\n",
    "H = 3\n",
    "salary = 5000 \n",
    "Food = \"shrimp\"\n"
   ]
  },
  {
   "cell_type": "markdown",
   "metadata": {},
   "source": [
    "### Ejercicio 3\n",
    "Aunque a primera vista la **asignación aumentada** no parezca tener relevancia, su uso es bastante usual y útil.\n",
    "\n",
    "Por lo tanto, para repasar vamos a realizar las siguientes actividades:\n",
    "\n",
    "1. Crea una variable que contenga el salario, o sueldo, básico de tu país.\n",
    "2. Vamos a suponer que cada año se aumenta $10.00 USD al salario básico. Por lo tanto, utilizando asignación aumentada añade $10.00 USD al salario básico que ingresaste.\n",
    "3. Suponiendo que cada ejecución del código es un año (es decir, se aumenta $10.00 USD al salario básico). ¿Cuál sería el salario básico dentro de 7 años? Analiza la respuesta y luego compruébala ejecutando el código las veces que sean necesarias.\n",
    "\n",
    "### Solución"
   ]
  },
  {
   "cell_type": "code",
   "execution_count": 2,
   "metadata": {},
   "outputs": [
    {
     "data": {
      "text/plain": [
       "480"
      ]
     },
     "execution_count": 2,
     "metadata": {},
     "output_type": "execute_result"
    }
   ],
   "source": [
    "#Entrada\n",
    "basic_salary = 470\n",
    "aumento_anual = 10\n",
    "#Procedimiento \n",
    "basic_salary += aumento_anual\n",
    "basic_salary"
   ]
  },
  {
   "cell_type": "code",
   "execution_count": 5,
   "metadata": {},
   "outputs": [
    {
     "name": "stdout",
     "output_type": "stream",
     "text": [
      "510\n"
     ]
    }
   ],
   "source": [
    "basic_salary += aumento_anual\n",
    "print (basic_salary)"
   ]
  },
  {
   "cell_type": "markdown",
   "metadata": {},
   "source": [
    "## Nombres de variables válidos y palabras reservadas\n",
    "### Ejercicio\n",
    "Identifica cuál de los siguientes nombres es un nombre de variable válido o no lo es, y justifica el motivo.\n",
    "* A3\n",
    "* _hello\n",
    "* ___5\n",
    "* año2022\n",
    "* 4_equipos\n",
    "* a_b-c\n",
    "* a_b_4_\n",
    "\n",
    "### Solución"
   ]
  },
  {
   "cell_type": "markdown",
   "metadata": {},
   "source": [
    "Ingrese su solución aquí 👻"
   ]
  },
  {
   "cell_type": "code",
   "execution_count": null,
   "metadata": {},
   "outputs": [],
   "source": [
    "A3=2\n",
    "_hello = 2\n",
    "__5 = 2\n",
    "año2022 = 12\n",
    "a_b_4_ = 2"
   ]
  },
  {
   "cell_type": "markdown",
   "metadata": {},
   "source": [
    "## Comentarios\n",
    "### Ejercicio 1\n",
    "El siguiente código realiza el cálculo de la hipotenusa de un triángulo rectángulo. La primera parte son los valores de los catetos y la segunda parte es el cálculo de la hipotenusa.\n",
    "\n",
    "¿Qué comentarios añadirías para que esto que acabas de leer también esté descrito en el propio código?\n",
    "\n",
    "**Observación**\n",
    "\n",
    "Por el momento no te preocupes por entender las operaciones ariméticas involucradas. Todo esto será explicado en los temas siguientes.\n",
    "\n",
    "### Solución"
   ]
  },
  {
   "cell_type": "code",
   "execution_count": null,
   "metadata": {},
   "outputs": [],
   "source": [
    "a = 3\n",
    "b = 4\n",
    "h = (a ** 2 + b ** 2) ** 0.5\n",
    "print(h)"
   ]
  },
  {
   "cell_type": "markdown",
   "metadata": {},
   "source": [
    "### Ejercicio 2\n",
    "Similar a lo realizado en el ejercicio anterior, también vas a comentar el siguiente código, pero esta vez no te diré qué hace. ¿Puedes deducirlo por tu cuenta?\n",
    "\n",
    "### Solución"
   ]
  },
  {
   "cell_type": "code",
   "execution_count": null,
   "metadata": {},
   "outputs": [],
   "source": [
    "b = 2\n",
    "h = 3\n",
    "A = b * h / 2\n",
    "print(A)"
   ]
  },
  {
   "cell_type": "markdown",
   "metadata": {},
   "source": [
    "## Mostrar u ocultar salidas\n",
    "### Ejercicio\n",
    "Explica la diferencia entre las siguientes formas de visualizar los valores de las variables `a` y `b`:\n",
    "\n",
    "*Forma 1*\n",
    "```\n",
    "a = 9 * 2\n",
    "b = 'gato'\n",
    "a\n",
    "b\n",
    "```\n",
    "*Forma 2*\n",
    "```\n",
    "a = 9 * 2\n",
    "b = 'gato'\n",
    "print(a)\n",
    "print(b)\n",
    "```\n",
    "\n",
    "¿Cuál forma utilizarías tú? ¿Por qué?\n",
    "\n",
    "### Solución"
   ]
  },
  {
   "cell_type": "code",
   "execution_count": 47,
   "metadata": {},
   "outputs": [
    {
     "data": {
      "text/plain": [
       "'gato'"
      ]
     },
     "execution_count": 47,
     "metadata": {},
     "output_type": "execute_result"
    }
   ],
   "source": [
    "a = 9*2\n",
    "b = \"gato\"\n",
    "a \n",
    "b "
   ]
  },
  {
   "cell_type": "code",
   "execution_count": 49,
   "metadata": {},
   "outputs": [
    {
     "name": "stdout",
     "output_type": "stream",
     "text": [
      "18\n",
      "gato\n"
     ]
    }
   ],
   "source": [
    "a = 9*2\n",
    "b = \"gato\" \n",
    "print (a)\n",
    "print (b)"
   ]
  },
  {
   "cell_type": "markdown",
   "metadata": {},
   "source": [
    "Al utilizar print podemos visualizar la resolución de las dos variables."
   ]
  }
 ],
 "metadata": {
  "kernelspec": {
   "display_name": "Python 3",
   "language": "python",
   "name": "python3"
  },
  "language_info": {
   "codemirror_mode": {
    "name": "ipython",
    "version": 3
   },
   "file_extension": ".py",
   "mimetype": "text/x-python",
   "name": "python",
   "nbconvert_exporter": "python",
   "pygments_lexer": "ipython3",
   "version": "3.12.1"
  },
  "orig_nbformat": 4
 },
 "nbformat": 4,
 "nbformat_minor": 2
}
